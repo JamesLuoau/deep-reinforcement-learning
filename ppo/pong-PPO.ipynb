{
 "cells": [
  {
   "cell_type": "markdown",
   "metadata": {},
   "source": [
    "# Welcome!\n",
    "Below, we will learn to implement and train a policy to play atari-pong, using only the pixels as input. We will use convolutional neural nets, multiprocessing, and pytorch to implement and train our policy. Let's get started!"
   ]
  },
  {
   "cell_type": "code",
   "execution_count": 1,
   "metadata": {},
   "outputs": [
    {
     "name": "stdout",
     "output_type": "stream",
     "text": [
      "Requirement already satisfied: JSAnimation in /anaconda3/envs/drlnd/lib/python3.6/site-packages (0.1)\n",
      "using device:  cpu\n"
     ]
    }
   ],
   "source": [
    "# install package for displaying animation\n",
    "!pip install JSAnimation\n",
    "%load_ext memory_profiler\n",
    "\n",
    "import torch\n",
    "%matplotlib inline\n",
    "device = torch.device(\"cuda:0\" if torch.cuda.is_available() else \"cpu\")\n",
    "\n",
    "print(\"using device: \",device)"
   ]
  },
  {
   "cell_type": "code",
   "execution_count": 2,
   "metadata": {},
   "outputs": [
    {
     "name": "stdout",
     "output_type": "stream",
     "text": [
      "List of available actions:  ['NOOP', 'FIRE', 'RIGHT', 'LEFT', 'RIGHTFIRE', 'LEFTFIRE']\n"
     ]
    }
   ],
   "source": [
    "# render ai gym environment\n",
    "import gym\n",
    "\n",
    "env = gym.make('PongDeterministic-v4')\n",
    "\n",
    "print(\"List of available actions: \", env.unwrapped.get_action_meanings())"
   ]
  },
  {
   "cell_type": "markdown",
   "metadata": {},
   "source": [
    "# Environment wrapper\n",
    "stack two frame together as a state to include temporal information."
   ]
  },
  {
   "cell_type": "code",
   "execution_count": 3,
   "metadata": {},
   "outputs": [],
   "source": [
    "from env_wrapper import PongDeterministic\n",
    "import matplotlib.pyplot as plt"
   ]
  },
  {
   "cell_type": "code",
   "execution_count": 4,
   "metadata": {},
   "outputs": [
    {
     "data": {
      "text/plain": [
       "Text(0.5,1,'Processed')"
      ]
     },
     "execution_count": 4,
     "metadata": {},
     "output_type": "execute_result"
    },
    {
     "data": {
      "image/png": "[encoded data removed]",
      "text/plain": [
       "<Figure size 432x288 with 2 Axes>"
      ]
     },
     "metadata": {
      "needs_background": "light"
     },
     "output_type": "display_data"
    }
   ],
   "source": [
    "env.reset()\n",
    "frame, reward, done, info = env.step(env.action_space.sample())\n",
    "processed = PongDeterministic.preprocess(frame)\n",
    "\n",
    "fig, axes = plt.subplots(nrows=1, ncols=2)\n",
    "\n",
    "axes[0].imshow(frame)\n",
    "axes[0].set_title(\"Original\")\n",
    "\n",
    "axes[1].imshow(processed, cmap='Greys')\n",
    "axes[1].set_title(\"Processed\")"
   ]
  },
  {
   "cell_type": "code",
   "execution_count": 5,
   "metadata": {},
   "outputs": [
    {
     "data": {
      "text/plain": [
       "(2, 80, 80)"
      ]
     },
     "execution_count": 5,
     "metadata": {},
     "output_type": "execute_result"
    }
   ],
   "source": [
    "env = PongDeterministic()\n",
    "state, _ = env.reset()\n",
    "state.shape"
   ]
  },
  {
   "cell_type": "code",
   "execution_count": 6,
   "metadata": {},
   "outputs": [],
   "source": [
    "for _ in range(10):\n",
    "    env.step(env.action_space.sample())"
   ]
  },
  {
   "cell_type": "code",
   "execution_count": 7,
   "metadata": {},
   "outputs": [],
   "source": [
    "def show_state_frames(state):\n",
    "    frame1 = state[0, :]\n",
    "    frame2 = state[1, :]\n",
    "\n",
    "    fig, axes = plt.subplots(nrows=1, ncols=2)\n",
    "\n",
    "    axes[0].imshow(frame1, cmap='Greys')\n",
    "    axes[0].set_title(\"State - frame 1\")\n",
    "\n",
    "    axes[1].imshow(frame2, cmap='Greys')\n",
    "    axes[1].set_title(\"State - frame 2\")"
   ]
  },
  {
   "cell_type": "code",
   "execution_count": 8,
   "metadata": {},
   "outputs": [
    {
     "data": {
      "image/png": "[encoded data removed]",
      "text/plain": [
       "<Figure size 432x288 with 2 Axes>"
      ]
     },
     "metadata": {
      "needs_background": "light"
     },
     "output_type": "display_data"
    },
    {
     "data": {
      "image/png": "[encoded data removed]",
      "text/plain": [
       "<Figure size 432x288 with 2 Axes>"
      ]
     },
     "metadata": {
      "needs_background": "light"
     },
     "output_type": "display_data"
    }
   ],
   "source": [
    "state, reward, done, info, frame = env.step(env.action_space.sample())\n",
    "show_state_frames(state)\n",
    "state, reward, done, info, frame = env.step(env.action_space.sample())\n",
    "show_state_frames(state)"
   ]
  },
  {
   "cell_type": "markdown",
   "metadata": {},
   "source": [
    "# Game visualization\n",
    "play game randomly."
   ]
  },
  {
   "cell_type": "code",
   "execution_count": 9,
   "metadata": {},
   "outputs": [],
   "source": [
    "from env_wrapper import PongDeterministic\n",
    "env = PongDeterministic()"
   ]
  },
  {
   "cell_type": "code",
   "execution_count": 10,
   "metadata": {},
   "outputs": [],
   "source": [
    "class RandomAgent:\n",
    "    def __init__(self, env):\n",
    "        self.env = env\n",
    "    \n",
    "    def act(self, state):\n",
    "        prob = 0.5\n",
    "        return self.env.action_space.sample(), prob"
   ]
  },
  {
   "cell_type": "code",
   "execution_count": 11,
   "metadata": {},
   "outputs": [],
   "source": [
    "from matplotlib import animation\n",
    "from JSAnimation.IPython_display import display_animation\n",
    "from IPython.display import display\n",
    "# function to animate a list of frames\n",
    "def animate_frames(frames):\n",
    "    plt.axis('off')\n",
    "\n",
    "    # color option for plotting\n",
    "    # use Greys for greyscale\n",
    "    cmap = None if len(frames[0].shape)==3 else 'Greys'\n",
    "    patch = plt.imshow(frames[0], cmap=cmap)\n",
    "\n",
    "    fanim = animation.FuncAnimation(plt.gcf(), \\\n",
    "                                    lambda x: patch.set_data(frames[x]), frames = len(frames), interval=30)\n",
    "\n",
    "    display(display_animation(fanim, default_mode='once'))\n",
    "\n",
    "def play(env, agent, t_max=1000):\n",
    "    state, frame = env.reset()\n",
    "    anim_frames = []\n",
    "    score = 0\n",
    "    for _ in range(t_max):\n",
    "        action, prob = agent.act(state)\n",
    "        next_state, reward, done, _, frame = env.step(action)\n",
    "        state = next_state\n",
    "        \n",
    "        anim_frames.append(frame)\n",
    "        score += reward\n",
    "        if done:\n",
    "            break\n",
    "\n",
    "    env.close()\n",
    "\n",
    "    animate_frames(anim_frames)\n",
    "    return score"
   ]
  },
  {
   "cell_type": "code",
   "execution_count": 12,
   "metadata": {},
   "outputs": [],
   "source": [
    "# agent = RandomAgent(env)\n",
    "# score = play(env=env, agent=agent, t_max=1000)\n",
    "# print(f\"score: {score}\")"
   ]
  },
  {
   "cell_type": "markdown",
   "metadata": {},
   "source": [
    "# PPO\n",
    "you'll implement the PPO algorithm as well, and the scalar function is given by\n",
    "$\\frac{1}{T}\\sum^T_t \\min\\left\\{R_{t}^{\\rm future}\\frac{\\pi_{\\theta'}(a_t|s_t)}{\\pi_{\\theta}(a_t|s_t)},R_{t}^{\\rm future}{\\rm clip}_{\\epsilon}\\!\\left(\\frac{\\pi_{\\theta'}(a_t|s_t)}{\\pi_{\\theta}(a_t|s_t)}\\right)\\right\\}$\n",
    "\n",
    "the ${\\rm clip}_\\epsilon$ function is implemented in pytorch as ```torch.clamp(ratio, 1-epsilon, 1+epsilon)```"
   ]
  },
  {
   "cell_type": "markdown",
   "metadata": {},
   "source": [
    "# Training\n",
    "We are now ready to train our policy!\n",
    "WARNING: make sure to turn on GPU, which also enables multicore processing. It may take up to 45 minutes even with GPU enabled, otherwise it will take much longer!"
   ]
  },
  {
   "cell_type": "code",
   "execution_count": 13,
   "metadata": {},
   "outputs": [],
   "source": [
    "from env_wrapper import PongDeterministic\n",
    "from model import Actor, Critic\n",
    "from ppo_agent import Agent\n",
    "from train import train, plot_scores\n",
    "from task import ParallelTask"
   ]
  },
  {
   "cell_type": "code",
   "execution_count": 14,
   "metadata": {},
   "outputs": [],
   "source": [
    "def create_env():\n",
    "    return PongDeterministic()\n",
    "envs = ParallelTask(create_env=create_env, n_tasks=8)\n",
    "\n",
    "env = create_env()\n",
    "action_dim = env.action_space.n\n",
    "seed = 0\n",
    "\n",
    "def create_actor():\n",
    "    return Actor(action_dim=action_dim, seed=seed)\n",
    "\n",
    "def create_critic():\n",
    "    return Critic(seed=seed)\n",
    "\n",
    "optimization_epochs = 4\n",
    "discount = 0.95\n",
    "epsilon = 0.1\n",
    "entropy_weight = 0.01\n",
    "learning_rate = 1e-4\n",
    "\n",
    "agent = Agent(\n",
    "    create_actor=create_actor,\n",
    "    create_critic=create_critic,\n",
    "    num_parallels=envs.size,\n",
    "    optimization_epochs=optimization_epochs,\n",
    "    discount=discount,\n",
    "    epsilon=epsilon,\n",
    "    entropy_weight=entropy_weight,\n",
    "    lr=learning_rate,\n",
    "    device='cpu',\n",
    "    seed=seed)"
   ]
  },
  {
   "cell_type": "code",
   "execution_count": null,
   "metadata": {},
   "outputs": [
    {
     "name": "stderr",
     "output_type": "stream",
     "text": [
      "training loop:   0% |                                          | ETA:  --:--:--\r"
     ]
    },
    {
     "name": "stdout",
     "output_type": "stream",
     "text": [
      "Episode 49/5000            Score: [-19. -17. -21. -17. -19. -20. -18. -14.]            Average Score: -17.57            Max Score: -15.38            Average steps: 795.24"
     ]
    },
    {
     "name": "stderr",
     "output_type": "stream",
     "text": [
      "training loop:   1% |                                  | ETA:  2 days, 14:16:01\r"
     ]
    },
    {
     "name": "stdout",
     "output_type": "stream",
     "text": [
      "Episode 50/5000            Score: [-18. -20. -21. -16. -18. -20. -17. -20.]            Average Score: -17.59            Max Score: -15.38            Average steps: 795.00\n",
      "Episode 99/5000            Score: [-17. -14. -20. -18. -13.  -9. -20. -17.]            Average Score: -17.33            Max Score: -14.12            Average steps: 804.18"
     ]
    },
    {
     "name": "stderr",
     "output_type": "stream",
     "text": [
      "training loop:   2% |                                  | ETA:  2 days, 13:03:15\r"
     ]
    },
    {
     "name": "stdout",
     "output_type": "stream",
     "text": [
      "Episode 100/5000            Score: [-15.  -9. -16. -21. -17. -15. -19. -10.]            Average Score: -17.31            Max Score: -14.12            Average steps: 805.13\n",
      "Episode 149/5000            Score: [-10. -11. -10. -15. -19. -11.  -9. -15.]            Average Score: -15.59            Max Score: -11.25            Average steps: 897.91"
     ]
    },
    {
     "name": "stderr",
     "output_type": "stream",
     "text": [
      "training loop:   3% |#                                 | ETA:  2 days, 16:50:33\r"
     ]
    },
    {
     "name": "stdout",
     "output_type": "stream",
     "text": [
      "Episode 150/5000            Score: [-11. -15. -15. -11. -13. -12.  -8. -13.]            Average Score: -15.53            Max Score: -11.25            Average steps: 900.08\n",
      "Episode 199/5000            Score: [-10.  -8. -12.  -8.  -8. -11. -19.  -9.]            Average Score: -12.75            Max Score: -8.25            Average steps: 990.336"
     ]
    },
    {
     "name": "stderr",
     "output_type": "stream",
     "text": [
      "training loop:   4% |#                                 | ETA:  2 days, 18:32:55\r"
     ]
    },
    {
     "name": "stdout",
     "output_type": "stream",
     "text": [
      "Episode 200/5000            Score: [-13.  -8. -11.  -9. -10. -10.  -8. -14.]            Average Score: -12.71            Max Score: -8.25            Average steps: 991.34\n",
      "Episode 249/5000            Score: [ -9. -13.  -9. -15. -14. -14.  -5.  -6.]            Average Score: -11.34            Max Score: -8.25            Average steps: 998.89"
     ]
    },
    {
     "name": "stderr",
     "output_type": "stream",
     "text": [
      "training loop:   5% |#                                 | ETA:  2 days, 14:35:13\r"
     ]
    },
    {
     "name": "stdout",
     "output_type": "stream",
     "text": [
      "Episode 250/5000            Score: [-10. -13. -12. -12. -13.  -9. -15. -11.]            Average Score: -11.33            Max Score: -8.25            Average steps: 998.89\n",
      "Episode 252/5000            Score: [-13. -10. -11.  -6. -12. -12.  -9. -12.]            Average Score: -11.29            Max Score: -8.25            Average steps: 999.47"
     ]
    }
   ],
   "source": [
    "train(envs=envs, agent=agent, max_t=1000)"
   ]
  },
  {
   "cell_type": "code",
   "execution_count": null,
   "metadata": {},
   "outputs": [],
   "source": [
    "plot_scores(scores)"
   ]
  },
  {
   "cell_type": "markdown",
   "metadata": {},
   "source": [
    "# Watch Smart Agent"
   ]
  },
  {
   "cell_type": "code",
   "execution_count": null,
   "metadata": {},
   "outputs": [],
   "source": [
    "agent = Agent(\n",
    "    create_actor=create_actor,\n",
    "    create_critic=create_critic,\n",
    "    num_parallels=envs.size,\n",
    "    optimization_epochs=optimization_epochs,\n",
    "    discount=discount,\n",
    "    epsilon=epsilon,\n",
    "    entropy_weight=entropy_weight,\n",
    "    lr=learning_rate,\n",
    "    device='cpu',\n",
    "    seed=seed)"
   ]
  },
  {
   "cell_type": "code",
   "execution_count": null,
   "metadata": {},
   "outputs": [],
   "source": [
    "env = PongDeterministic()"
   ]
  },
  {
   "cell_type": "code",
   "execution_count": null,
   "metadata": {},
   "outputs": [],
   "source": [
    "agent.actor.load_state_dict(torch.load(f\"checkpoint_actor.pth\"))\n",
    "agent.critic.load_state_dict(torch.load(f\"checkpoint_critic.pth\"))"
   ]
  },
  {
   "cell_type": "code",
   "execution_count": null,
   "metadata": {},
   "outputs": [],
   "source": [
    "score = play(env=env, agent=agent, t_max=1000)\n",
    "print(f\"score: {score}\")"
   ]
  }
 ],
 "metadata": {
  "kernelspec": {
   "display_name": "Python 3",
   "language": "python",
   "name": "python3"
  },
  "language_info": {
   "codemirror_mode": {
    "name": "ipython",
    "version": 3
   },
   "file_extension": ".py",
   "mimetype": "text/x-python",
   "name": "python",
   "nbconvert_exporter": "python",
   "pygments_lexer": "ipython3",
   "version": "3.6.5"
  }
 },
 "nbformat": 4,
 "nbformat_minor": 2
}
