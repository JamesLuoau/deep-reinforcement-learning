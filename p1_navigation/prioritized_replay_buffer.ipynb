{
 "cells": [
  {
   "cell_type": "code",
   "execution_count": 1,
   "metadata": {},
   "outputs": [],
   "source": [
    "from prioritized_replay_buffer import PrioritizedReplayBuffer"
   ]
  },
  {
   "cell_type": "code",
   "execution_count": 2,
   "metadata": {},
   "outputs": [],
   "source": [
    "buffer = PrioritizedReplayBuffer(action_size=4, buffer_size=10, batch_size=2, seed=0)"
   ]
  },
  {
   "cell_type": "code",
   "execution_count": 3,
   "metadata": {},
   "outputs": [],
   "source": [
    "buffer.add(state=[1, 2, 3], action=0, reward=1, next_state=[4, 5, 6], done=False)\n",
    "buffer.add(state=[4, 5, 6], action=1, reward=0, next_state=[7, 8, 9], done=False)\n",
    "buffer.add(state=[7, 8, 9], action=2, reward=1, next_state=[10, 11, 12], done=False)\n",
    "buffer.add(state=[10, 11, 12], action=3, reward=0, next_state=[13, 14, 15], done=False)\n",
    "buffer.add(state=[13, 14, 15], action=0, reward=1, next_state=[13, 14, 15], done=True)"
   ]
  },
  {
   "cell_type": "code",
   "execution_count": 4,
   "metadata": {},
   "outputs": [
    {
     "name": "stdout",
     "output_type": "stream",
     "text": [
      "states: tensor([[ 7.,  8.,  9.],\n",
      "        [13., 14., 15.]])\n",
      " actions: tensor([[2],\n",
      "        [0]])\n",
      " rewards: tensor([[1.],\n",
      "        [1.]])\n",
      " next_states: tensor([[10., 11., 12.],\n",
      "        [13., 14., 15.]])\n",
      " dones: tensor([[0.],\n",
      "        [1.]])\n",
      " indices: [11 13]\n",
      " w_IS: tensor([1., 1.])\n"
     ]
    }
   ],
   "source": [
    "(states, actions, rewards, next_states, dones, indices, w_IS) = buffer.sample()\n",
    "print(f\"states: {states}\\n\",\n",
    "     f\"actions: {actions}\\n\",\n",
    "     f\"rewards: {rewards}\\n\",\n",
    "     f\"next_states: {next_states}\\n\",\n",
    "     f\"dones: {dones}\\n\",\n",
    "     f\"indices: {indices}\\n\",\n",
    "     f\"w_IS: {w_IS}\")"
   ]
  },
  {
   "cell_type": "code",
   "execution_count": null,
   "metadata": {},
   "outputs": [],
   "source": []
  }
 ],
 "metadata": {
  "kernelspec": {
   "display_name": "Python 3",
   "language": "python",
   "name": "python3"
  },
  "language_info": {
   "codemirror_mode": {
    "name": "ipython",
    "version": 3
   },
   "file_extension": ".py",
   "mimetype": "text/x-python",
   "name": "python",
   "nbconvert_exporter": "python",
   "pygments_lexer": "ipython3",
   "version": "3.6.5"
  }
 },
 "nbformat": 4,
 "nbformat_minor": 2
}
