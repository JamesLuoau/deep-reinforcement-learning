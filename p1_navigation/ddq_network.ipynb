{
 "cells": [
  {
   "cell_type": "code",
   "execution_count": 1,
   "metadata": {},
   "outputs": [],
   "source": [
    "import torch\n",
    "import torch.nn as nn\n",
    "import torch.nn.functional as F\n",
    "from ddq_network import QNetwork"
   ]
  },
  {
   "cell_type": "code",
   "execution_count": 2,
   "metadata": {},
   "outputs": [
    {
     "data": {
      "text/plain": [
       "QNetwork(\n",
       "  (hidden_layers): ModuleList(\n",
       "    (0): Linear(in_features=8, out_features=256, bias=True)\n",
       "    (1): Linear(in_features=256, out_features=128, bias=True)\n",
       "  )\n",
       "  (output): Linear(in_features=128, out_features=4, bias=True)\n",
       ")"
      ]
     },
     "execution_count": 2,
     "metadata": {},
     "output_type": "execute_result"
    }
   ],
   "source": [
    "network = QNetwork(state_size=8, action_size=4, seed=0)\n",
    "network"
   ]
  },
  {
   "cell_type": "code",
   "execution_count": 3,
   "metadata": {},
   "outputs": [
    {
     "data": {
      "text/plain": [
       "tensor([[0.9353, 1.1721, 1.0826, 0.9122]], grad_fn=<ExpBackward>)"
      ]
     },
     "execution_count": 3,
     "metadata": {},
     "output_type": "execute_result"
    }
   ],
   "source": [
    "sample1 = torch.Tensor([1, 2, 3, 4, 5, 6, 7, 8])\n",
    "logits = network.forward(sample1.view(1, 8))\n",
    "torch.exp(logits)"
   ]
  },
  {
   "cell_type": "code",
   "execution_count": 4,
   "metadata": {},
   "outputs": [
    {
     "name": "stdout",
     "output_type": "stream",
     "text": [
      "next_Q_values: tensor([[-0.0669,  0.1588,  0.0793, -0.0919],\n",
      "        [-0.3797,  1.3628, -0.1498, -0.9924]], grad_fn=<ThAddmmBackward>)\n",
      "next_Q_values max: (tensor([[0.1588],\n",
      "        [1.3628]], grad_fn=<MaxBackward0>), tensor([[1],\n",
      "        [1]]))\n",
      "next_Q_values argmax: tensor([[1],\n",
      "        [1]])\n"
     ]
    }
   ],
   "source": [
    "import torch.optim as optim\n",
    "network_local = QNetwork(state_size=8, action_size=4, seed=0)\n",
    "network_target = QNetwork(state_size=8, action_size=4, seed=0)\n",
    "gamma = 0.995\n",
    "optimizer = optim.Adam(network_local.parameters(), lr=5e-4)\n",
    "\n",
    "states = torch.FloatTensor([[1, 2, 3, 4, 5, 6, 7, 8], [11, 12, 13, 14, 15, 16, 17, 18]])\n",
    "actions = torch.LongTensor([[0], [1]])\n",
    "rewards = torch.FloatTensor([[0.1], [0.2]])\n",
    "next_states = torch.FloatTensor([[1, 2, 3, 4, 5, 6, 7, 8], [11, 12, 13, 14, 15, 16, 17, 18]])\n",
    "dones = torch.FloatTensor([[0.0], [1.0]])\n",
    "\n",
    "next_Q_values = network_target(next_states)\n",
    "print(f\"next_Q_values: {next_Q_values}\")\n",
    "print(f\"next_Q_values max: {next_Q_values.max(dim=1, keepdim=True)}\")\n",
    "print(f\"next_Q_values argmax: {next_Q_values.argmax(dim=1, keepdim=True)}\")"
   ]
  },
  {
   "cell_type": "code",
   "execution_count": 5,
   "metadata": {},
   "outputs": [
    {
     "data": {
      "text/plain": [
       "-0.9678"
      ]
     },
     "execution_count": 5,
     "metadata": {},
     "output_type": "execute_result"
    }
   ],
   "source": [
    "max([-1.8587, -1.1321, -0.9678, -1.9530])"
   ]
  },
  {
   "cell_type": "code",
   "execution_count": 6,
   "metadata": {},
   "outputs": [
    {
     "name": "stdout",
     "output_type": "stream",
     "text": [
      "network_target(next_states): tensor([[-0.0669,  0.1588,  0.0793, -0.0919],\n",
      "        [-0.3797,  1.3628, -0.1498, -0.9924]], grad_fn=<ThAddmmBackward>)\n",
      "network_target(next_states): (tensor([0.1588, 1.3628], grad_fn=<MaxBackward0>), tensor([1, 1]))\n",
      "network_target(next_states): tensor([1, 1])\n"
     ]
    }
   ],
   "source": [
    "next_Q_values = network_target(next_states).max(dim=1)[0].unsqueeze(1)\n",
    "network_target(next_states)\n",
    "print(f\"network_target(next_states): {network_target(next_states)}\")\n",
    "print(f\"network_target(next_states): {network_target(next_states).max(dim=1)}\")\n",
    "print(f\"network_target(next_states): {network_target(next_states).argmax(dim=1)}\")\n",
    "# print(f\"next_Q_values: {next_Q_values}\")\n",
    "# print(f\"rewards: {rewards}\")\n",
    "targets = rewards + gamma * next_Q_values * (1.0 - dones)\n",
    "# print(f\"targets: {targets}\")\n",
    "Q_values = network_local.forward(states).gather(dim=1, index=actions)"
   ]
  },
  {
   "cell_type": "code",
   "execution_count": 7,
   "metadata": {},
   "outputs": [],
   "source": [
    "loss = F.mse_loss(input=Q_values, target=targets)\n",
    "\n",
    "optimizer.zero_grad()\n",
    "loss.backward()\n",
    "optimizer.step()"
   ]
  },
  {
   "cell_type": "code",
   "execution_count": null,
   "metadata": {},
   "outputs": [],
   "source": []
  }
 ],
 "metadata": {
  "kernelspec": {
   "display_name": "Python 3",
   "language": "python",
   "name": "python3"
  },
  "language_info": {
   "codemirror_mode": {
    "name": "ipython",
    "version": 3
   },
   "file_extension": ".py",
   "mimetype": "text/x-python",
   "name": "python",
   "nbconvert_exporter": "python",
   "pygments_lexer": "ipython3",
   "version": "3.6.5"
  }
 },
 "nbformat": 4,
 "nbformat_minor": 2
}
