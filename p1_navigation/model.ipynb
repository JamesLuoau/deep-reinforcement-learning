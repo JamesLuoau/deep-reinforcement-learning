{
 "cells": [
  {
   "cell_type": "code",
   "execution_count": 1,
   "metadata": {},
   "outputs": [],
   "source": [
    "import torch\n",
    "import torch.nn as nn\n",
    "import torch.nn.functional as F"
   ]
  },
  {
   "cell_type": "code",
   "execution_count": 2,
   "metadata": {},
   "outputs": [],
   "source": [
    "class QNetwork(nn.Module):\n",
    "    \"\"\"Actor (Policy) Model.\"\"\"\n",
    "\n",
    "    def __init__(self, state_size, action_size, seed):\n",
    "        \"\"\"Initialize parameters and build model.\n",
    "        Params\n",
    "        ======\n",
    "            state_size (int): Dimension of each state\n",
    "            action_size (int): Dimension of each action\n",
    "            seed (int): Random seed\n",
    "        \"\"\"\n",
    "        super(QNetwork, self).__init__()\n",
    "        self.seed = torch.manual_seed(seed)\n",
    "        \"*** YOUR CODE HERE ***\"\n",
    "        hidden_sizes = [512, 256, 128]\n",
    "        self.hidden_layers = nn.ModuleList([nn.Linear(state_size, hidden_sizes[0])])\n",
    "        layer_sizes = zip(hidden_sizes[:-1], hidden_sizes[1:])\n",
    "        self.hidden_layers.extend([nn.Linear(h1, h2) for h1, h2 in layer_sizes])\n",
    "        \n",
    "        self.output = nn.Linear(hidden_sizes[-1], action_size)\n",
    "        self.dropout = nn.Dropout(p=0.2)\n",
    "\n",
    "    def forward(self, state):\n",
    "        \"\"\"Build a network that maps state -> action values.\"\"\"\n",
    "        x = state\n",
    "        for linear in self.hidden_layers:\n",
    "            x = F.elu(linear(x))\n",
    "            x = self.dropout(x)\n",
    "        x = self.output(x)\n",
    "        return F.log_softmax(x, dim=1)"
   ]
  },
  {
   "cell_type": "code",
   "execution_count": 3,
   "metadata": {},
   "outputs": [
    {
     "data": {
      "text/plain": [
       "QNetwork(\n",
       "  (hidden_layers): ModuleList(\n",
       "    (0): Linear(in_features=8, out_features=512, bias=True)\n",
       "    (1): Linear(in_features=512, out_features=256, bias=True)\n",
       "    (2): Linear(in_features=256, out_features=128, bias=True)\n",
       "  )\n",
       "  (output): Linear(in_features=128, out_features=4, bias=True)\n",
       "  (dropout): Dropout(p=0.2)\n",
       ")"
      ]
     },
     "execution_count": 3,
     "metadata": {},
     "output_type": "execute_result"
    }
   ],
   "source": [
    "network = QNetwork(state_size=8, action_size=4, seed=0)\n",
    "network"
   ]
  },
  {
   "cell_type": "code",
   "execution_count": 4,
   "metadata": {},
   "outputs": [
    {
     "data": {
      "text/plain": [
       "tensor([[0.2052, 0.2963, 0.3308, 0.1678]], grad_fn=<ExpBackward>)"
      ]
     },
     "execution_count": 4,
     "metadata": {},
     "output_type": "execute_result"
    }
   ],
   "source": [
    "sample1 = torch.Tensor([1, 2, 3, 4, 5, 6, 7, 8])\n",
    "logits = network.forward(sample1.view(1, 8))\n",
    "torch.exp(logits)"
   ]
  },
  {
   "cell_type": "code",
   "execution_count": 14,
   "metadata": {},
   "outputs": [
    {
     "name": "stdout",
     "output_type": "stream",
     "text": [
      "next_Q_values: tensor([[-1.5840, -1.2164, -1.1064, -1.7849],\n",
      "        [-2.1907, -0.6123, -1.2782, -2.6956]], grad_fn=<LogSoftmaxBackward>)\n",
      "next_Q_values max: (tensor([[-1.1064],\n",
      "        [-0.6123]], grad_fn=<MaxBackward0>), tensor([[2],\n",
      "        [1]]))\n",
      "next_Q_values argmax: tensor([[2],\n",
      "        [1]])\n"
     ]
    }
   ],
   "source": [
    "import torch.optim as optim\n",
    "network_local = QNetwork(state_size=8, action_size=4, seed=0)\n",
    "network_target = QNetwork(state_size=8, action_size=4, seed=0)\n",
    "gamma = 0.995\n",
    "optimizer = optim.Adam(network_local.parameters(), lr=5e-4)\n",
    "\n",
    "states = torch.FloatTensor([[1, 2, 3, 4, 5, 6, 7, 8], [11, 12, 13, 14, 15, 16, 17, 18]])\n",
    "actions = torch.LongTensor([[0], [1]])\n",
    "rewards = torch.FloatTensor([[0.1], [0.2]])\n",
    "next_states = torch.FloatTensor([[1, 2, 3, 4, 5, 6, 7, 8], [11, 12, 13, 14, 15, 16, 17, 18]])\n",
    "dones = torch.FloatTensor([[0.0], [1.0]])\n",
    "\n",
    "next_Q_values = network_target(next_states)\n",
    "print(f\"next_Q_values: {next_Q_values}\")\n",
    "print(f\"next_Q_values max: {next_Q_values.max(dim=1, keepdim=True)}\")\n",
    "print(f\"next_Q_values argmax: {next_Q_values.argmax(dim=1, keepdim=True)}\")"
   ]
  },
  {
   "cell_type": "code",
   "execution_count": 11,
   "metadata": {},
   "outputs": [
    {
     "data": {
      "text/plain": [
       "-0.9678"
      ]
     },
     "execution_count": 11,
     "metadata": {},
     "output_type": "execute_result"
    }
   ],
   "source": [
    "max([-1.8587, -1.1321, -0.9678, -1.9530])"
   ]
  },
  {
   "cell_type": "code",
   "execution_count": null,
   "metadata": {},
   "outputs": [],
   "source": [
    "next_Q_values = network_target(next_states).max(dim=1)[0].unsqueeze(1)\n",
    "network_target(next_states)\n",
    "print(f\"network_target(next_states): {network_target(next_states)}\")\n",
    "print(f\"network_target(next_states): {network_target(next_states).max(dim=1)}\")\n",
    "print(f\"network_target(next_states): {network_target(next_states).argmax(dim=1)}\")\n",
    "# print(f\"next_Q_values: {next_Q_values}\")\n",
    "# print(f\"rewards: {rewards}\")\n",
    "targets = rewards + gamma * next_Q_values * (1.0 - dones)\n",
    "# print(f\"targets: {targets}\")\n",
    "Q_values = network_local.forward(states).gather(dim=1, index=actions)"
   ]
  },
  {
   "cell_type": "code",
   "execution_count": null,
   "metadata": {},
   "outputs": [],
   "source": [
    "loss = F.mse_loss(input=Q_values, target=targets)\n",
    "\n",
    "optimizer.zero_grad()\n",
    "loss.backward()\n",
    "optimizer.step()"
   ]
  }
 ],
 "metadata": {
  "kernelspec": {
   "display_name": "Python 3",
   "language": "python",
   "name": "python3"
  },
  "language_info": {
   "codemirror_mode": {
    "name": "ipython",
    "version": 3
   },
   "file_extension": ".py",
   "mimetype": "text/x-python",
   "name": "python",
   "nbconvert_exporter": "python",
   "pygments_lexer": "ipython3",
   "version": "3.6.5"
  }
 },
 "nbformat": 4,
 "nbformat_minor": 2
}
